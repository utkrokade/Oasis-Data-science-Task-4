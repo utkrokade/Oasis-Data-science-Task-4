{
 "cells": [
  {
   "cell_type": "code",
   "execution_count": 1,
   "id": "eee5e7df",
   "metadata": {},
   "outputs": [],
   "source": [
    "import numpy as np \n",
    "import pandas as pd \n",
    "\n",
    "from sklearn.model_selection import train_test_split\n",
    "from sklearn.preprocessing import LabelEncoder\n",
    "\n",
    "from sklearn.linear_model import LogisticRegression\n",
    "from sklearn.svm import SVC\n",
    "from sklearn.neural_network import MLPClassifier\n",
    "\n",
    "\n",
    "from sklearn.metrics import f1_score"
   ]
  },
  {
   "cell_type": "code",
   "execution_count": 28,
   "id": "1a82e025",
   "metadata": {},
   "outputs": [],
   "source": [
    "spam = pd.read_csv('Downloads/spam.csv',encoding = \"latin-1\")\n"
   ]
  },
  {
   "cell_type": "code",
   "execution_count": 29,
   "id": "d7a28a5c",
   "metadata": {},
   "outputs": [
    {
     "data": {
      "text/html": [
       "<div>\n",
       "<style scoped>\n",
       "    .dataframe tbody tr th:only-of-type {\n",
       "        vertical-align: middle;\n",
       "    }\n",
       "\n",
       "    .dataframe tbody tr th {\n",
       "        vertical-align: top;\n",
       "    }\n",
       "\n",
       "    .dataframe thead th {\n",
       "        text-align: right;\n",
       "    }\n",
       "</style>\n",
       "<table border=\"1\" class=\"dataframe\">\n",
       "  <thead>\n",
       "    <tr style=\"text-align: right;\">\n",
       "      <th></th>\n",
       "      <th>v1</th>\n",
       "      <th>v2</th>\n",
       "      <th>Unnamed: 2</th>\n",
       "      <th>Unnamed: 3</th>\n",
       "      <th>Unnamed: 4</th>\n",
       "    </tr>\n",
       "  </thead>\n",
       "  <tbody>\n",
       "    <tr>\n",
       "      <th>0</th>\n",
       "      <td>ham</td>\n",
       "      <td>Go until jurong point, crazy.. Available only ...</td>\n",
       "      <td>NaN</td>\n",
       "      <td>NaN</td>\n",
       "      <td>NaN</td>\n",
       "    </tr>\n",
       "    <tr>\n",
       "      <th>1</th>\n",
       "      <td>ham</td>\n",
       "      <td>Ok lar... Joking wif u oni...</td>\n",
       "      <td>NaN</td>\n",
       "      <td>NaN</td>\n",
       "      <td>NaN</td>\n",
       "    </tr>\n",
       "    <tr>\n",
       "      <th>2</th>\n",
       "      <td>spam</td>\n",
       "      <td>Free entry in 2 a wkly comp to win FA Cup fina...</td>\n",
       "      <td>NaN</td>\n",
       "      <td>NaN</td>\n",
       "      <td>NaN</td>\n",
       "    </tr>\n",
       "    <tr>\n",
       "      <th>3</th>\n",
       "      <td>ham</td>\n",
       "      <td>U dun say so early hor... U c already then say...</td>\n",
       "      <td>NaN</td>\n",
       "      <td>NaN</td>\n",
       "      <td>NaN</td>\n",
       "    </tr>\n",
       "    <tr>\n",
       "      <th>4</th>\n",
       "      <td>ham</td>\n",
       "      <td>Nah I don't think he goes to usf, he lives aro...</td>\n",
       "      <td>NaN</td>\n",
       "      <td>NaN</td>\n",
       "      <td>NaN</td>\n",
       "    </tr>\n",
       "  </tbody>\n",
       "</table>\n",
       "</div>"
      ],
      "text/plain": [
       "     v1                                                 v2 Unnamed: 2  \\\n",
       "0   ham  Go until jurong point, crazy.. Available only ...        NaN   \n",
       "1   ham                      Ok lar... Joking wif u oni...        NaN   \n",
       "2  spam  Free entry in 2 a wkly comp to win FA Cup fina...        NaN   \n",
       "3   ham  U dun say so early hor... U c already then say...        NaN   \n",
       "4   ham  Nah I don't think he goes to usf, he lives aro...        NaN   \n",
       "\n",
       "  Unnamed: 3 Unnamed: 4  \n",
       "0        NaN        NaN  \n",
       "1        NaN        NaN  \n",
       "2        NaN        NaN  \n",
       "3        NaN        NaN  \n",
       "4        NaN        NaN  "
      ]
     },
     "execution_count": 29,
     "metadata": {},
     "output_type": "execute_result"
    }
   ],
   "source": [
    "spam.head()"
   ]
  },
  {
   "cell_type": "code",
   "execution_count": 35,
   "id": "6700da46",
   "metadata": {},
   "outputs": [],
   "source": [
    "spam.drop([spam.columns[col] for col in range(2,5)],axis=1,inplace=True)"
   ]
  },
  {
   "cell_type": "code",
   "execution_count": 36,
   "id": "b614a78a",
   "metadata": {},
   "outputs": [
    {
     "data": {
      "text/html": [
       "<div>\n",
       "<style scoped>\n",
       "    .dataframe tbody tr th:only-of-type {\n",
       "        vertical-align: middle;\n",
       "    }\n",
       "\n",
       "    .dataframe tbody tr th {\n",
       "        vertical-align: top;\n",
       "    }\n",
       "\n",
       "    .dataframe thead th {\n",
       "        text-align: right;\n",
       "    }\n",
       "</style>\n",
       "<table border=\"1\" class=\"dataframe\">\n",
       "  <thead>\n",
       "    <tr style=\"text-align: right;\">\n",
       "      <th></th>\n",
       "      <th>v1</th>\n",
       "      <th>v2</th>\n",
       "    </tr>\n",
       "  </thead>\n",
       "  <tbody>\n",
       "    <tr>\n",
       "      <th>0</th>\n",
       "      <td>ham</td>\n",
       "      <td>Go until jurong point, crazy.. Available only ...</td>\n",
       "    </tr>\n",
       "    <tr>\n",
       "      <th>1</th>\n",
       "      <td>ham</td>\n",
       "      <td>Ok lar... Joking wif u oni...</td>\n",
       "    </tr>\n",
       "    <tr>\n",
       "      <th>2</th>\n",
       "      <td>spam</td>\n",
       "      <td>Free entry in 2 a wkly comp to win FA Cup fina...</td>\n",
       "    </tr>\n",
       "    <tr>\n",
       "      <th>3</th>\n",
       "      <td>ham</td>\n",
       "      <td>U dun say so early hor... U c already then say...</td>\n",
       "    </tr>\n",
       "    <tr>\n",
       "      <th>4</th>\n",
       "      <td>ham</td>\n",
       "      <td>Nah I don't think he goes to usf, he lives aro...</td>\n",
       "    </tr>\n",
       "    <tr>\n",
       "      <th>...</th>\n",
       "      <td>...</td>\n",
       "      <td>...</td>\n",
       "    </tr>\n",
       "    <tr>\n",
       "      <th>5567</th>\n",
       "      <td>spam</td>\n",
       "      <td>This is the 2nd time we have tried 2 contact u...</td>\n",
       "    </tr>\n",
       "    <tr>\n",
       "      <th>5568</th>\n",
       "      <td>ham</td>\n",
       "      <td>Will Ì_ b going to esplanade fr home?</td>\n",
       "    </tr>\n",
       "    <tr>\n",
       "      <th>5569</th>\n",
       "      <td>ham</td>\n",
       "      <td>Pity, * was in mood for that. So...any other s...</td>\n",
       "    </tr>\n",
       "    <tr>\n",
       "      <th>5570</th>\n",
       "      <td>ham</td>\n",
       "      <td>The guy did some bitching but I acted like i'd...</td>\n",
       "    </tr>\n",
       "    <tr>\n",
       "      <th>5571</th>\n",
       "      <td>ham</td>\n",
       "      <td>Rofl. Its true to its name</td>\n",
       "    </tr>\n",
       "  </tbody>\n",
       "</table>\n",
       "<p>5572 rows × 2 columns</p>\n",
       "</div>"
      ],
      "text/plain": [
       "        v1                                                 v2\n",
       "0      ham  Go until jurong point, crazy.. Available only ...\n",
       "1      ham                      Ok lar... Joking wif u oni...\n",
       "2     spam  Free entry in 2 a wkly comp to win FA Cup fina...\n",
       "3      ham  U dun say so early hor... U c already then say...\n",
       "4      ham  Nah I don't think he goes to usf, he lives aro...\n",
       "...    ...                                                ...\n",
       "5567  spam  This is the 2nd time we have tried 2 contact u...\n",
       "5568   ham              Will Ì_ b going to esplanade fr home?\n",
       "5569   ham  Pity, * was in mood for that. So...any other s...\n",
       "5570   ham  The guy did some bitching but I acted like i'd...\n",
       "5571   ham                         Rofl. Its true to its name\n",
       "\n",
       "[5572 rows x 2 columns]"
      ]
     },
     "execution_count": 36,
     "metadata": {},
     "output_type": "execute_result"
    }
   ],
   "source": [
    "spam"
   ]
  },
  {
   "cell_type": "code",
   "execution_count": 37,
   "id": "28675122",
   "metadata": {},
   "outputs": [
    {
     "data": {
      "text/plain": [
       "<AxesSubplot:xlabel='v1', ylabel='count'>"
      ]
     },
     "execution_count": 37,
     "metadata": {},
     "output_type": "execute_result"
    },
    {
     "data": {
      "image/png": "[encoded data removed]",
      "text/plain": [
       "<Figure size 720x720 with 1 Axes>"
      ]
     },
     "metadata": {
      "needs_background": "light"
     },
     "output_type": "display_data"
    }
   ],
   "source": [
    "import matplotlib.pyplot as plt\n",
    "import seaborn as sns\n",
    "\n",
    "plt.figure(figsize = (10,10))\n",
    "sns.countplot(data = data, x= 'v1' )"
   ]
  },
  {
   "cell_type": "code",
   "execution_count": 39,
   "id": "e0095e17",
   "metadata": {},
   "outputs": [],
   "source": [
    "encoder = LabelEncoder()\n",
    "spam['v1'] = encoder.fit_transform(spam[\"v1\"])"
   ]
  },
  {
   "cell_type": "code",
   "execution_count": 40,
   "id": "1dbeda83",
   "metadata": {},
   "outputs": [],
   "source": [
    "from sklearn.feature_extraction.text import TfidfVectorizer\n",
    "\n",
    "vect=TfidfVectorizer(min_df=1,stop_words='english',lowercase=True)"
   ]
  },
  {
   "cell_type": "code",
   "execution_count": 41,
   "id": "c92bf75b",
   "metadata": {},
   "outputs": [],
   "source": [
    "y = spam['v1']\n",
    "spam = spam.drop('v1',axis = 1)\n",
    "X_train, X_test, y_train, y_test = train_test_split(data, y, train_size = 0.8)"
   ]
  },
  {
   "cell_type": "code",
   "execution_count": 42,
   "id": "e1f99a7c",
   "metadata": {},
   "outputs": [],
   "source": [
    "X_tr_f = vect.fit_transform(X_train['v2'])\n",
    "X_te_f = vect.transform(X_test['v2'])"
   ]
  },
  {
   "cell_type": "code",
   "execution_count": 43,
   "id": "a554f4bf",
   "metadata": {},
   "outputs": [
    {
     "name": "stdout",
     "output_type": "stream",
     "text": [
      "  (0, 75)\t0.2786246349561825\n",
      "  (0, 310)\t0.17973726729926043\n",
      "  (0, 4980)\t0.21416468049359372\n",
      "  (0, 6812)\t0.1687659188941794\n",
      "  (0, 5055)\t0.25644975346598486\n",
      "  (0, 1654)\t0.25644975346598486\n",
      "  (0, 7218)\t0.3907208991733671\n",
      "  (0, 703)\t0.2656531608264812\n",
      "  (0, 1150)\t0.16981491751319855\n",
      "  (0, 6504)\t0.1424808113137569\n",
      "  (0, 3726)\t0.12007983989628462\n",
      "  (0, 3700)\t0.25644975346598486\n",
      "  (0, 4975)\t0.2240870302796556\n",
      "  (0, 5794)\t0.4166638474327696\n",
      "  (0, 2889)\t0.1331076868891333\n",
      "  (0, 4360)\t0.15221805976438843\n",
      "  (0, 6888)\t0.12377757999052495\n",
      "  (0, 5790)\t0.22713615462329498\n",
      "  (1, 3268)\t0.5851675812819802\n",
      "  (1, 6175)\t0.5696790316137509\n",
      "  (1, 5809)\t0.5771002536442139\n",
      "  (2, 3324)\t1.0\n",
      "  (3, 2569)\t0.17980354713625962\n",
      "  (3, 6204)\t0.43467434846245917\n",
      "  (3, 6551)\t0.1385555391903189\n",
      "  :\t:\n",
      "  (4455, 4775)\t0.3016153662334905\n",
      "  (4455, 4440)\t0.27761072284328187\n",
      "  (4455, 1562)\t0.27761072284328187\n",
      "  (4455, 6877)\t0.234225812459751\n",
      "  (4455, 4965)\t0.24587831033801302\n",
      "  (4455, 1580)\t0.21414589783274415\n",
      "  (4455, 254)\t0.20453112766883427\n",
      "  (4455, 6515)\t0.21278763041254972\n",
      "  (4455, 3881)\t0.20783185072134852\n",
      "  (4455, 6967)\t0.21555961983640887\n",
      "  (4455, 4760)\t0.21278763041254972\n",
      "  (4455, 7125)\t0.21148063077370552\n",
      "  (4455, 1573)\t0.22365002451603042\n",
      "  (4455, 4752)\t0.234225812459751\n",
      "  (4455, 5680)\t0.24257758728549877\n",
      "  (4455, 7346)\t0.17095944862258672\n",
      "  (4455, 6504)\t0.15423762544328484\n",
      "  (4455, 2889)\t0.2881821539999321\n",
      "  (4455, 4360)\t0.16477834363213265\n",
      "  (4456, 3754)\t0.4907210464961484\n",
      "  (4456, 2566)\t0.47372028626720053\n",
      "  (4456, 6532)\t0.44064942526449263\n",
      "  (4456, 3072)\t0.2698410157945169\n",
      "  (4456, 4321)\t0.3587254532933441\n",
      "  (4456, 7082)\t0.3729770827721014\n"
     ]
    }
   ],
   "source": [
    "print(X_tr_f)"
   ]
  },
  {
   "cell_type": "code",
   "execution_count": 44,
   "id": "cc53341a",
   "metadata": {},
   "outputs": [
    {
     "data": {
      "text/plain": [
       "LogisticRegression()"
      ]
     },
     "execution_count": 44,
     "metadata": {},
     "output_type": "execute_result"
    }
   ],
   "source": [
    "Log = LogisticRegression()\n",
    "Log.fit(X_tr_f,y_train)"
   ]
  },
  {
   "cell_type": "code",
   "execution_count": 53,
   "id": "ed8ea45b",
   "metadata": {},
   "outputs": [
    {
     "data": {
      "text/plain": [
       "SVC()"
      ]
     },
     "execution_count": 53,
     "metadata": {},
     "output_type": "execute_result"
    }
   ],
   "source": [
    "sv = SVC()\n",
    "sv.fit(X_tr_f,y_train)"
   ]
  },
  {
   "cell_type": "code",
   "execution_count": 54,
   "id": "785daf55",
   "metadata": {},
   "outputs": [
    {
     "data": {
      "text/plain": [
       "MLPClassifier(hidden_layer_sizes=(128, 128))"
      ]
     },
     "execution_count": 54,
     "metadata": {},
     "output_type": "execute_result"
    }
   ],
   "source": [
    "nn = MLPClassifier(hidden_layer_sizes=(128,128))\n",
    "nn.fit(X_tr_f,y_train)"
   ]
  },
  {
   "cell_type": "code",
   "execution_count": 55,
   "id": "0a9df16b",
   "metadata": {},
   "outputs": [],
   "source": [
    "log_pre = Log.predict(X_te_f)\n",
    "sv_pre = sv.predict(X_te_f)\n",
    "nn_pre = nn.predict(X_te_f)"
   ]
  },
  {
   "cell_type": "code",
   "execution_count": 56,
   "id": "6b74818b",
   "metadata": {},
   "outputs": [
    {
     "name": "stdout",
     "output_type": "stream",
     "text": [
      "accuracy of Logistic Regression : 0.9641255605381166 \n",
      "accuracy of SVM : 0.9811659192825112 \n",
      "accuracy of Neural Network : 0.9811659192825112 \n"
     ]
    }
   ],
   "source": [
    "print(f'accuracy of Logistic Regression : {Log.score(X_te_f,y_test)} ')\n",
    "print(f'accuracy of SVM : {sv.score(X_te_f,y_test)} ')\n",
    "print(f'accuracy of Neural Network : {nn.score(X_te_f,y_test)} ')"
   ]
  },
  {
   "cell_type": "code",
   "execution_count": 57,
   "id": "1cb4f248",
   "metadata": {},
   "outputs": [
    {
     "name": "stdout",
     "output_type": "stream",
     "text": [
      "F1 score of Logistic Regression : 0.8484848484848485 \n",
      "F1 score of SVM : 0.9252669039145909 \n",
      "F1 score of Neural Network : 0.9278350515463918 \n"
     ]
    }
   ],
   "source": [
    "print(f'F1 score of Logistic Regression : {f1_score(y_test,log_pre)} ')\n",
    "print(f'F1 score of SVM : {f1_score(y_test,sv_pre)} ')\n",
    "print(f'F1 score of Neural Network : {f1_score(y_test,nn_pre)} ')"
   ]
  },
  {
   "cell_type": "code",
   "execution_count": null,
   "id": "34d3eb8f",
   "metadata": {},
   "outputs": [],
   "source": []
  }
 ],
 "metadata": {
  "kernelspec": {
   "display_name": "Python 3 (ipykernel)",
   "language": "python",
   "name": "python3"
  },
  "language_info": {
   "codemirror_mode": {
    "name": "ipython",
    "version": 3
   },
   "file_extension": ".py",
   "mimetype": "text/x-python",
   "name": "python",
   "nbconvert_exporter": "python",
   "pygments_lexer": "ipython3",
   "version": "3.9.12"
  }
 },
 "nbformat": 4,
 "nbformat_minor": 5
}
